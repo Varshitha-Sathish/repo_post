{
  "nbformat": 4,
  "nbformat_minor": 0,
  "metadata": {
    "colab": {
      "provenance": [],
      "include_colab_link": true
    },
    "kernelspec": {
      "name": "python3",
      "display_name": "Python 3"
    },
    "language_info": {
      "name": "python"
    }
  },
  "cells": [
    {
      "cell_type": "markdown",
      "metadata": {
        "id": "view-in-github",
        "colab_type": "text"
      },
      "source": [
        "<a href=\"https://colab.research.google.com/github/Varshitha-Sathish/repo_post/blob/main/Merger.ipynb\" target=\"_parent\"><img src=\"https://colab.research.google.com/assets/colab-badge.svg\" alt=\"Open In Colab\"/></a>"
      ]
    },
    {
      "cell_type": "code",
      "execution_count": 26,
      "metadata": {
        "id": "b6N-9ZQQhXWH"
      },
      "outputs": [],
      "source": [
        "import pandas as pd\n",
        "import geopy.distance as gd\n",
        "import numpy as np\n",
        "import random"
      ]
    },
    {
      "cell_type": "code",
      "source": [
        "\n",
        "def haversine(lat1, lon1, lat2, lon2):\n",
        "    # uses km. do not fuck with.\n",
        "\n",
        "\n",
        "    R = 6371  # Earth radius in kilometers\n",
        "\n",
        "    # Convert latitude and longitude from degrees to radians\n",
        "    lat1, lon1, lat2, lon2 = np.radians([lat1, lon1, lat2, lon2])\n",
        "\n",
        "    # Calculate differences\n",
        "    dlat = lat2 - lat1\n",
        "    dlon = lon2 - lon1\n",
        "\n",
        "    # Haversine formula\n",
        "    a = np.sin(dlat / 2) ** 2 + np.cos(lat1) * np.cos(lat2) * np.sin(dlon / 2) ** 2\n",
        "    c = 2 * np.arctan2(np.sqrt(a), np.sqrt(1 - a))\n",
        "\n",
        "    # Calculate distance\n",
        "    distance = R * c\n",
        "\n",
        "    return distance\n",
        "\n",
        "def distance(lat1, long1, lat2, long2):\n",
        "  # haversine but miles though\n",
        "  return haversine(lat1, long1, lat2, long2) * 0.621371"
      ],
      "metadata": {
        "id": "h9SO0Hdoiuqj"
      },
      "execution_count": 27,
      "outputs": []
    },
    {
      "cell_type": "code",
      "source": [
        "#FL = pd.read_excel('/content/2007_statewide/Florida.xlsx')\n",
        "#IL = pd.read_excel('/content/2007_statewide/Illinois.xlsx')\n",
        "#NYNJ = pd.read_excel('/content/2007_statewide/NJ-NY.xlsx')\n",
        "#TX = pd.read_excel('/content/2007_statewide/Texas.xlsx')\n",
        "ThreeCorners = pd.read_excel('/3 states.xlsx')\n",
        "#upload whatever files you need here and assign the data value\n",
        "data = ThreeCorners\n",
        "\n",
        "# Creates copy of index called BANKID\n",
        "data[\"BANKID\"] = data.index.values.tolist()\n",
        "\n",
        "numBanks = len(data)"
      ],
      "metadata": {
        "id": "OqWBpO9ahi_b"
      },
      "execution_count": 28,
      "outputs": []
    },
    {
      "cell_type": "code",
      "source": [
        "# CLEARS DISTTABLE!\n",
        "\n",
        "# distTable is a memoization table where distTable[A][B] is the distance from A to B\n",
        "# where A and B are indices in df.\n",
        "\n",
        "\n",
        "\n",
        "distTable = {}\n",
        "#This line initializes an empty dictionary called distTable. In Python, a dictionary is a collection of key-value pairs.\n",
        "# distTable = [[0 if i == j else None for j in range(numBanks)] for i in range(numBanks)]"
      ],
      "metadata": {
        "id": "nUQbkVvhPc7M"
      },
      "execution_count": 29,
      "outputs": []
    },
    {
      "cell_type": "code",
      "source": [
        "# Search returns a dataframe of banks within radius miles of bank specified by bankID.\n",
        "#This is a function definition. It defines a function named search that takes three parameters: bankID (an integer), radius (a floating-point number), and raw.\n",
        "def search(bankID:int, radius:float, raw):\n",
        "\n",
        "  if bankID >= numBanks or bankID < 0:\n",
        "    print(\"Error: invalid BankID for this dataset!\")\n",
        "    return None\n",
        "\n",
        "  # get coordinates of bank with bankID- This extracts the latitude and longitude of the specified bank from the raw data.\n",
        "  lat = raw['LATITUDE'][bankID]\n",
        "  lon = raw['LONGITUDE'][bankID]\n",
        "\n",
        "  # DATA VALIDATION: only keeps banks with valid LONGITUDE and LATITUDE\n",
        "  df_valid = raw.dropna(axis='index', subset=['LATITUDE','LONGITUDE'])\n",
        "  # TODO: query backup longitude & latitude?\n",
        "\n",
        "\n",
        "  # shortcut: will not consider banks outside of a square with side length = radius. 1 degree=69.4 miles, we don't go towards the north pole so we dc\n",
        "  #This filters the df_valid DataFrame to only include banks within a square region (of side length radius) centered around the specified bank.\n",
        "  #It then drops the row corresponding to the specified bank.\n",
        "  local = df_valid[(abs(df_valid['LATITUDE'] - lat) < (radius/69.4)) & (abs(df_valid['LONGITUDE'] - lon) < (radius/69.4))].drop(index=bankID)\n",
        "\n",
        "  # for each branch: This sets up a loop to iterate over each bank in the local DataFrame.\n",
        "  for b in local.index:\n",
        "    d = None\n",
        "\n",
        "    # if the distance has already been computed, just use that!\n",
        "    if bankID in distTable and b in distTable[bankID]:\n",
        "      d = distTable[bankID][b]\n",
        "    # otherwise, compute it now:\n",
        "    else:\n",
        "      d = distance(raw['LATITUDE'][bankID], raw['LONGITUDE'][bankID], local['LATITUDE'][b], local['LONGITUDE'][b])\n",
        "      # then, make sure it is stored properly...\n",
        "      if bankID in distTable:\n",
        "        distTable[bankID][b] = d\n",
        "      else:\n",
        "        distTable[bankID] = {b: d}\n",
        "      # ...along with its inverse!\n",
        "      if b in distTable:\n",
        "        distTable[b][bankID] = d\n",
        "      else:\n",
        "        distTable[b] = {bankID: d}\n",
        "\n",
        "#Check if the distance is already computed:\n",
        "#It checks if bankID exists in distTable (the memoization table) and if b exists in distTable[bankID]. If both conditions are true, it means the distance has been computed before, so it retrieves the distance d from the memoization table.\n",
        "#If the distance is not computed:\n",
        "#If the conditions in the first part are not met (i.e., the distance is not already computed), it calculates the distance using the distance function.\n",
        "#Store the computed distance in the memoization table:\n",
        "#After computing the distance, it stores the result in the memoization table (distTable). It checks if bankID is already in distTable and updates the entry for bankID with the distance d. If bankID is not present, it creates a new entry in distTable for bankID with the distance d. The same is done for the inverse relationship (b to bankID).\n",
        "\n",
        "#This checks if the distance (d) is greater than the specified radius. If yes, it drops the current bank (b) from the local DataFrame.\n",
        "    if d > radius:\n",
        "      local = local.drop(index=b)\n",
        "\n",
        "  # testing statement: lists max distance of query results\n",
        "  # maxDist = None\n",
        "  # for b in local.index:\n",
        "  #   maxDist = max(distTable[bankID][b], maxDist)\n",
        "  # print(\"Max Distance:\", maxDist)\n",
        "  # calculates and prints the maximum distance among the query results.\n",
        "\n",
        "  return local\n",
        "  #Finally, the function returns the filtered DataFrame containing banks within the specified radius of the specified bank."
      ],
      "metadata": {
        "id": "0Exc6egIpSkx"
      },
      "execution_count": 30,
      "outputs": []
    },
    {
      "cell_type": "code",
      "source": [
        "#This Python function, multiSearch, appears to perform a search for nearby branches of a specified bank within a given radius.\n",
        "\n",
        "def multiSearch(bankName:str, radius:float, raw):\n",
        "\n",
        "#This line filters the raw DataFrame to include only rows where the \"NAMEFULL\" column matches the specified bankName.\n",
        "#This creates a subset of data containing information about branches of the specified bank.\n",
        "\n",
        "  companySet = raw[raw[\"NAMEFULL\"] == bankName] #.astype({'UNINUMBR': 'int32'}).set_index(\"UNINUMBR\")\n",
        "  print(\"Exploring near\", len(companySet), \"branches of\", bankName + \"...\")\n",
        "\n",
        "#Initializes an empty dictionary to store the search results.\n",
        "  results = {}\n",
        "\n",
        "#Iterates over the indices (bank IDs) of the companySet DataFrame, representing branches of the specified bank.\n",
        "  for bankID in companySet.index:\n",
        "#Calls the search function for each bank in companySet. This function is expected to return a DataFrame of nearby branches.\n",
        "    result = search(bankID, radius, raw)\n",
        "#Adds the result of the search to the results dictionary.\n",
        "#If the search result is empty (length is 0), it assigns None to the dictionary entry; otherwise, it assigns the search result DataFrame.\n",
        "    results[bankID] = None if len(result) == 0 else result\n",
        "\n",
        "  print(\"Search within\", radius, \"mile radius is complete!\")\n",
        "#Randomly selects one result from the results dictionary and prints it. This is done using the random.choice function.\n",
        "  sampleID, sample = random.choice(list(results.items()))\n",
        "\n",
        "  print(\"Random result (bankID = \" + str(sampleID) + \"): \")\n",
        "  display(sample)\n",
        "\n",
        "  return results"
      ],
      "metadata": {
        "id": "Vku1gGIsSTZo"
      },
      "execution_count": 31,
      "outputs": []
    },
    {
      "cell_type": "code",
      "source": [
        "JPMorganChase = \"JPMorgan Chase Bank, National Association\"\n",
        "\n",
        "JPQUERY = multiSearch(JPMorganChase, 5.0, data)"
      ],
      "metadata": {
        "id": "nXsIQc5Cxtd0"
      },
      "execution_count": 49,
      "outputs": []
    },
    {
      "cell_type": "code",
      "source": [
        "WashingtonMutual = \"Washington Mutual Bank\"\n",
        "\n",
        "WMQUERY = multiSearch(WashingtonMutual, 5.0, data)\n",
        ""
      ],
      "metadata": {
        "id": "pXrCq3Mnxwuq"
      },
      "execution_count": 48,
      "outputs": []
    },
    {
      "cell_type": "code",
      "source": [
        "import pandas as pd\n",
        "\n",
        "# Define the multiSearch function (replace this with the actual implementation)\n",
        "def multiSearch(query, threshold, data):\n",
        "    # Your implementation here\n",
        "    pass\n",
        "\n",
        "# Assuming data is a list or any other iterable\n",
        "data = [...]  # Replace [...] with your actual data\n",
        "\n",
        "# Assuming WMQUERY is a list of data\n",
        "WashingtonMutual = \"Washington Mutual Bank\"\n",
        "WMQUERY = multiSearch(WashingtonMutual, 5.0, data)\n",
        "\n",
        "# Convert the list to a DataFrame\n",
        "df = pd.DataFrame(WMQUERY, columns=[\"Column1\", \"Column2\", ...])  # Replace \"Column1\", \"Column2\", ... with your actual column names\n",
        "\n",
        "# Specify the Excel file path\n",
        "excel_file_path = \"output2.xlsx\"\n",
        "\n",
        "# Export the DataFrame to an Excel file\n",
        "df.to_excel(excel_file_path, index=False)\n",
        "\n",
        "print(f\"Excel file saved to {excel_file_path}\")\n"
      ],
      "metadata": {
        "colab": {
          "base_uri": "https://localhost:8080/"
        },
        "id": "7aGTGG5fck3X",
        "outputId": "e3bfe835-8de2-4ee0-a1cf-a9a1b2d46709"
      },
      "execution_count": 42,
      "outputs": [
        {
          "output_type": "stream",
          "name": "stdout",
          "text": [
            "Excel file saved to output2.xlsx\n"
          ]
        }
      ]
    },
    {
      "cell_type": "code",
      "source": [
        "\n",
        "# this one isn't working because I don't have access to the terminal!\n",
        "# But if you ran it on the native machine, it should work.\n",
        "def interface():\n",
        "\n",
        "  bankName = input(\"Please enter the FULL NAME of the banking company you would like to search around: \")\n",
        "\n",
        "  if bankName == \"JP\": bankName = \"JPMorgan Chase Bank, National Association\"\n",
        "  if bankName == \"WM\": bankName = \"Washington Mutual Bank\"\n",
        "\n",
        "  radius = float(input(\"Enter the search radius in miles: \"))\n",
        "\n",
        "  results = multiSearch(bankName, radius, data)\n",
        "\n",
        "  return results\n",
        "\n"
      ],
      "metadata": {
        "id": "n0FSYKpkQ6bs"
      },
      "execution_count": 41,
      "outputs": []
    },
    {
      "cell_type": "code",
      "source": [
        "from google.colab import drive\n",
        "drive.mount('/content/drive')"
      ],
      "metadata": {
        "id": "C8RV6UlQeejy"
      },
      "execution_count": null,
      "outputs": []
    }
  ]
}